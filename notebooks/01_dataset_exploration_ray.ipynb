{
 "cells": [
  {
   "cell_type": "markdown",
   "id": "91a4e15d",
   "metadata": {},
   "source": [
    "# 01_dataset_exploration.ipynb\n",
    "\n",
    "**Goal:** Explore the dataset of PubTables-1M and visualize examples.\n",
    "\n",
    "**Inputs:** Raw PubTables JSON, PDFs, or images  \n",
    "**Outputs:** Processed samples, preview plots  \n",
    "**Run after:** None (first notebook)\n"
   ]
  },
  {
   "cell_type": "code",
   "execution_count": 1,
   "id": "86a43405",
   "metadata": {
    "vscode": {
     "languageId": "plaintext"
    }
   },
   "outputs": [],
   "source": [
    "import os\n",
    "import json\n",
    "import random\n",
    "import matplotlib.pyplot as plt\n",
    "from datasets import load_dataset\n",
    "from pprint import pprint\n"
   ]
  },
  {
   "cell_type": "code",
   "execution_count": null,
   "id": "eeb01661-e428-44f6-8be8-16f90f777967",
   "metadata": {},
   "outputs": [],
   "source": []
  }
 ],
 "metadata": {
  "kernelspec": {
   "display_name": "Python 3 (ipykernel)",
   "language": "python",
   "name": "python3"
  },
  "language_info": {
   "codemirror_mode": {
    "name": "ipython",
    "version": 3
   },
   "file_extension": ".py",
   "mimetype": "text/x-python",
   "name": "python",
   "nbconvert_exporter": "python",
   "pygments_lexer": "ipython3",
   "version": "3.13.7"
  }
 },
 "nbformat": 4,
 "nbformat_minor": 5
}
